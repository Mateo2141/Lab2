{
  "cells": [
    {
      "cell_type": "markdown",
      "metadata": {
        "id": "JaBtg3Rh62je"
      },
      "source": [
        "# Laboratorio 2: Introducción a sistemas\n",
        "\n",
        "Integrantes:\n",
        "\n",
        "#############################\n",
        "\n",
        "#############################"
      ]
    },
    {
      "cell_type": "markdown",
      "metadata": {
        "id": "bs4_1jjymH-v"
      },
      "source": [
        "## **Punto 1: Cargar el audio y escuchar el audio**"
      ]
    },
    {
      "cell_type": "code",
      "execution_count": null,
      "metadata": {
        "id": "NU4NpBvEmKt-"
      },
      "outputs": [],
      "source": [
        "import scipy.io.wavfile as waves\n",
        "import IPython.display as ipd\n",
        "\n",
        "# Cargar el audio y escuchar el audio\n"
      ]
    },
    {
      "cell_type": "markdown",
      "metadata": {
        "id": "sJYtHdpkm6TC"
      },
      "source": [
        "## **Punto 2: Gráficar el espectro del audio original**\n",
        "\n"
      ]
    },
    {
      "cell_type": "code",
      "execution_count": null,
      "metadata": {
        "id": "qotCmDVXpn46"
      },
      "outputs": [],
      "source": [
        "import numpy as np\n",
        "import matplotlib.pyplot as plt\n",
        "\n",
        "# Convertir el audio a un arreglo unidimensional\n",
        "audio_mono = y.mean(axis=1)\n",
        "\n",
        "# Calcular la Transformada de Fourier (FFT)\n",
        "fft = np.fft.fft(audio_mono)\n",
        "\n",
        "# Calcular los valores de frecuencia correspondientes\n",
        "frecuencias = np.fft.fftfreq(len(audio_mono), 1/Fs)\n",
        "\n",
        "# Obtener la magnitud del espectro (valor absoluto de la FFT)\n",
        "espectro = np.abs(fft)\n",
        "\n",
        "# Graficar el espectro de frecuencia\n",
        "\n"
      ]
    },
    {
      "cell_type": "markdown",
      "metadata": {
        "id": "LaEfOjSGqGNr"
      },
      "source": [
        "## **Punto 3**"
      ]
    },
    {
      "cell_type": "code",
      "execution_count": null,
      "metadata": {
        "id": "JWQPt1pKqHzg"
      },
      "outputs": [],
      "source": [
        "import numpy as np\n",
        "import matplotlib.pyplot as plt\n",
        "from scipy import signal\n",
        "\n",
        "# Definir los parámetros del filtro\n",
        "cutoff_freq = 500  # Frecuencia de corte en Hz\n",
        "order = 4  # Orden del filtro\n",
        "\n",
        "# Normalizar la frecuencia de corte con respecto a la frecuencia de Nyquist\n",
        "nyquist = 0.5 * Fs\n",
        "normalized_cutoff = cutoff_freq / nyquist\n",
        "\n",
        "# Diseñar el filtro Butterworth\n",
        "b, a = signal.butter(order, normalized_cutoff, btype='low', analog=False)\n",
        "\n",
        "# Aplicar el filtro al audio\n",
        "audio_filtrado = signal.lfilter(b, a, audio_mono)\n",
        "\n",
        "# Calcular la Transformada de Fourier (FFT) del audio filtrado\n",
        "fft_filtrado = np.fft.fft(audio_filtrado)\n",
        "\n",
        "# Calcular los valores de frecuencia correspondientes\n",
        "frecuencias = np.fft.fftfreq(len(audio_filtrado), 1/Fs)\n",
        "\n",
        "# Obtener la magnitud del espectro (valor absoluto de la FFT)\n",
        "espectro_filtrado = np.abs(fft_filtrado)\n",
        "\n",
        "# Graficar el espectro de frecuencia del audio filtrado\n",
        "\n",
        "\n"
      ]
    },
    {
      "cell_type": "code",
      "execution_count": null,
      "metadata": {
        "id": "UKS73IBFsuS3"
      },
      "outputs": [],
      "source": [
        "#Escuche el audio original\n",
        "ipd.Audio(audio_mono, rate=Fs)"
      ]
    },
    {
      "cell_type": "code",
      "execution_count": null,
      "metadata": {
        "id": "cWrjirgGswgE"
      },
      "outputs": [],
      "source": [
        "#Escuche el audio filtrado\n",
        "ipd.Audio(audio_filtrado, rate=Fs)"
      ]
    },
    {
      "cell_type": "markdown",
      "metadata": {
        "id": "tlbJnXXRqjVx"
      },
      "source": [
        "## **Punto 4**"
      ]
    },
    {
      "cell_type": "code",
      "execution_count": null,
      "metadata": {
        "id": "gPYQu6ySqcoN"
      },
      "outputs": [],
      "source": [
        "import numpy as np\n",
        "import matplotlib.pyplot as plt\n",
        "from scipy import signal\n",
        "\n",
        "# Definir los parámetros del filtro\n",
        "cutoff_freq = 3000  # Frecuencia de corte en Hz\n",
        "order = 4  # Orden del filtro\n",
        "\n",
        "# Normalizar la frecuencia de corte con respecto a la frecuencia de Nyquist\n",
        "nyquist = 0.5 * Fs\n",
        "normalized_cutoff = cutoff_freq / nyquist\n",
        "\n",
        "# Diseñar el filtro Butterworth\n",
        "b, a = signal.butter(order, normalized_cutoff, btype='high', analog=False)\n",
        "\n",
        "# Aplicar el filtro al audio\n",
        "audio_filtrado = signal.lfilter(b, a, audio_mono)\n",
        "\n",
        "# Calcular la Transformada de Fourier (FFT) del audio filtrado\n",
        "fft_filtrado = np.fft.fft(audio_filtrado)\n",
        "\n",
        "# Calcular los valores de frecuencia correspondientes\n",
        "frecuencias = np.fft.fftfreq(len(audio_filtrado), 1/Fs)\n",
        "\n",
        "# Obtener la magnitud del espectro (valor absoluto de la FFT)\n",
        "espectro_filtrado = np.abs(fft_filtrado)\n",
        "\n",
        "# Graficar el espectro de frecuencia del audio filtrado\n"
      ]
    },
    {
      "cell_type": "code",
      "execution_count": null,
      "metadata": {
        "id": "xYDOb81WxYTp"
      },
      "outputs": [],
      "source": [
        "#Escuche el audio original\n",
        "ipd.Audio(audio_mono, rate=Fs)"
      ]
    },
    {
      "cell_type": "code",
      "execution_count": null,
      "metadata": {
        "id": "kWBth9BvxZyX"
      },
      "outputs": [],
      "source": [
        "#Escuche el audio filtrado\n",
        "ipd.Audio(audio_filtrado, rate=Fs)"
      ]
    },
    {
      "cell_type": "markdown",
      "metadata": {
        "id": "BfNh8pE0rdwU"
      },
      "source": [
        "## **Punto 5**\n"
      ]
    },
    {
      "cell_type": "code",
      "execution_count": null,
      "metadata": {
        "id": "MGnnzrfGrVAh"
      },
      "outputs": [],
      "source": [
        "import numpy as np\n",
        "import matplotlib.pyplot as plt\n",
        "from scipy import signal\n",
        "\n",
        "# Definir los parámetros del filtro\n",
        "frecuencia_baja = 5000  # Frecuencia baja de corte en Hz\n",
        "frecuencia_alta = 5500  # Frecuencia alta de corte en Hz\n",
        "order = 4  # Orden del filtro\n",
        "\n",
        "# Normalizar la frecuencia de corte con respecto a la frecuencia de Nyquist\n",
        "nyquist = 0.5 * Fs\n",
        "normalized_low = frecuencia_baja / nyquist\n",
        "normalized_high = frecuencia_alta / nyquist\n",
        "\n",
        "# Diseñar el filtro Butterworth\n",
        "b, a = signal.butter(order, [normalized_low, normalized_high], btype='band', analog=False)\n",
        "\n",
        "# Aplicar el filtro al audio\n",
        "audio_filtrado = signal.lfilter(b, a, audio_mono)\n",
        "\n",
        "# Calcular la Transformada de Fourier (FFT) del audio filtrado\n",
        "fft_filtrado = np.fft.fft(audio_filtrado)\n",
        "\n",
        "# Calcular los valores de frecuencia correspondientes\n",
        "frecuencias = np.fft.fftfreq(len(audio_filtrado), 1/Fs)\n",
        "\n",
        "# Obtener la magnitud del espectro (valor absoluto de la FFT)\n",
        "espectro_filtrado = np.abs(fft_filtrado)\n",
        "\n",
        "# Graficar el espectro de frecuencia del audio filtrado\n",
        "\n"
      ]
    },
    {
      "cell_type": "code",
      "execution_count": null,
      "metadata": {
        "id": "nCCpfORlxy6e"
      },
      "outputs": [],
      "source": [
        "#Escuche el audio original\n",
        "ipd.Audio(audio_mono, rate=Fs)"
      ]
    },
    {
      "cell_type": "code",
      "execution_count": null,
      "metadata": {
        "id": "8YfrXowjx1ZR"
      },
      "outputs": [],
      "source": [
        "#Escuche el audio filtrado\n",
        "ipd.Audio(audio_filtrado, rate=Fs)"
      ]
    }
  ],
  "metadata": {
    "colab": {
      "provenance": []
    },
    "kernelspec": {
      "display_name": "Python 3",
      "name": "python3"
    },
    "language_info": {
      "name": "python"
    }
  },
  "nbformat": 4,
  "nbformat_minor": 0
}
